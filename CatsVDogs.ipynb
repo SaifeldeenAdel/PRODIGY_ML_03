{
 "cells": [
  {
   "cell_type": "code",
   "execution_count": 1,
   "id": "7e4c5975-5e69-4a19-ae69-5d9fae0635b3",
   "metadata": {},
   "outputs": [],
   "source": [
    "import os \n",
    "import cv2\n",
    "import numpy as np\n",
    "import pandas as pd\n",
    "import matplotlib.pyplot as plt\n",
    "from sklearn.svm import SVC\n",
    "from sklearn.model_selection import train_test_split\n",
    "from sklearn.ensemble import RandomForestClassifier\n",
    "from sklearn.model_selection import GridSearchCV\n",
    "from sklearn.decomposition import PCA\n",
    "from sklearn.metrics import accuracy_score"
   ]
  },
  {
   "cell_type": "code",
   "execution_count": null,
   "id": "e2e81674-9e78-4ae1-9e9f-121313088861",
   "metadata": {},
   "outputs": [],
   "source": [
    "path = 'data/train/'\n",
    "data = []  # Initialize list to hold image data\n",
    "labels = []  # Initialize list to hold labels\n",
    "\n",
    "count = 0 \n",
    "# loading and setting up my training images\n",
    "for filename in os.listdir(path):\n",
    "    count += 1\n",
    "    # Check if the file is an image (you can add more image extensions if needed)\n",
    "    # Takes 6000 images out of 25000\n",
    "    if filename.endswith('.jpg') and (count < 3000 or (count > 12500 and count < 15500)):\n",
    "        img = cv2.imread(os.path.join(path, filename))\n",
    "        img = (cv2.resize(img, (170, 100))).flatten()\n",
    "        img = img/255\n",
    "        data.append(img)  # Append each flattened image to the list\n",
    "        if filename.startswith('dog'):\n",
    "            labels.append(1)\n",
    "        else:\n",
    "            labels.append(0)"
   ]
  },
  {
   "cell_type": "code",
   "execution_count": null,
   "id": "a4274008-df71-4614-98ee-8b68be09d4e7",
   "metadata": {},
   "outputs": [],
   "source": [
    "# Convert lists to NumPy arrays\n",
    "data = np.array(data)\n",
    "labels = np.array(labels)"
   ]
  },
  {
   "cell_type": "code",
   "execution_count": null,
   "id": "11cb780b-a4b6-4f2d-a63d-47f1e3a6ec94",
   "metadata": {},
   "outputs": [],
   "source": [
    "# Splitting data\n",
    "X_train, X_test, y_train, y_test = train_test_split(data, labels, test_size=0.2, shuffle=True)"
   ]
  },
  {
   "cell_type": "code",
   "execution_count": null,
   "id": "46bf4221-23d7-49bd-9763-ce18895883ab",
   "metadata": {},
   "outputs": [],
   "source": [
    "# Performing grid search to try different combinations of parameters to get the best one, takes around ~60 minutes\n",
    "parameters = [{'gamma':[0.01, 0.0001], 'C':[1, 10, 1000]}]\n",
    "gridSearch = GridSearchCV(clf, parameters, verbose=10)\n",
    "gridSearch.fit(X_train, y_train)"
   ]
  },
  {
   "cell_type": "code",
   "execution_count": null,
   "id": "9c25d415-8d03-4df1-b372-c25e024c62a0",
   "metadata": {},
   "outputs": [],
   "source": [
    "y_pred = clf.predict(X_test)"
   ]
  },
  {
   "cell_type": "code",
   "execution_count": null,
   "id": "53512fa2-718c-4952-b7ff-36f007eceb98",
   "metadata": {},
   "outputs": [],
   "source": [
    "print(f'Accuracy score: {accuracy_score(y_pred,y_test)}%')"
   ]
  }
 ],
 "metadata": {
  "kernelspec": {
   "display_name": "Python 3 (ipykernel)",
   "language": "python",
   "name": "python3"
  },
  "language_info": {
   "codemirror_mode": {
    "name": "ipython",
    "version": 3
   },
   "file_extension": ".py",
   "mimetype": "text/x-python",
   "name": "python",
   "nbconvert_exporter": "python",
   "pygments_lexer": "ipython3",
   "version": "3.11.4"
  }
 },
 "nbformat": 4,
 "nbformat_minor": 5
}
