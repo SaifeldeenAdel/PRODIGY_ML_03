{
 "cells": [
  {
   "cell_type": "code",
   "execution_count": 20,
   "id": "0e530097-d585-4eeb-9f37-6439414417d9",
   "metadata": {},
   "outputs": [],
   "source": [
    "from sklearn.model_selection import train_test_split\n",
    "from sklearn.model_selection import GridSearchCV"
   ]
  },
  {
   "cell_type": "code",
   "execution_count": 23,
   "id": "7e4c5975-5e69-4a19-ae69-5d9fae0635b3",
   "metadata": {},
   "outputs": [],
   "source": [
    "import os \n",
    "import cv2\n",
    "import numpy as np\n",
    "import pandas as pd\n",
    "from sklearn.svm import SVC"
   ]
  },
  {
   "cell_type": "code",
   "execution_count": 22,
   "id": "e2e81674-9e78-4ae1-9e9f-121313088861",
   "metadata": {},
   "outputs": [],
   "source": [
    "path = 'data/train/'\n",
    "data = []  # Initialize list to hold image data\n",
    "labels = []  # Initialize list to hold labels\n",
    "\n",
    "count = 0 \n",
    "# loading and setting up my training images\n",
    "for filename in os.listdir(path):\n",
    "    count += 1\n",
    "    # Check if the file is an image (you can add more image extensions if needed)\n",
    "    if filename.endswith('.jpg') and (count < 1000 or (count > 12500 and count < 13500)):\n",
    "        img = cv2.imread(os.path.join(path, filename))\n",
    "        img = (cv2.resize(img, (170, 100))).flatten()\n",
    "        data.append(img)  # Append each flattened image to the list\n",
    "        if filename.startswith('dog'):\n",
    "            labels.append(1)\n",
    "        else:\n",
    "            labels.append(0)\n",
    "\n",
    "# Convert lists to NumPy arrays\n",
    "data = np.array(data)\n",
    "labels = np.array(labels)"
   ]
  },
  {
   "cell_type": "code",
   "execution_count": 28,
   "id": "11cb780b-a4b6-4f2d-a63d-47f1e3a6ec94",
   "metadata": {},
   "outputs": [],
   "source": [
    "X_train, X_test, y_train, y_test = train_test_split(data, labels, test_size=0.2, shuffle=True)"
   ]
  },
  {
   "cell_type": "code",
   "execution_count": 29,
   "id": "04eca8b5-d814-44c0-9c57-a740323c6696",
   "metadata": {},
   "outputs": [
    {
     "data": {
      "text/plain": [
       "(1598, 51000)"
      ]
     },
     "execution_count": 29,
     "metadata": {},
     "output_type": "execute_result"
    }
   ],
   "source": [
    "X_train.shape"
   ]
  },
  {
   "cell_type": "code",
   "execution_count": null,
   "id": "46bf4221-23d7-49bd-9763-ce18895883ab",
   "metadata": {},
   "outputs": [
    {
     "name": "stdout",
     "output_type": "stream",
     "text": [
      "Fitting 5 folds for each of 12 candidates, totalling 60 fits\n"
     ]
    }
   ],
   "source": [
    "# Performing grid search to try different combinations of parameters to get the best one\n",
    "clf = SVC()\n",
    "# clf.fit(X_train,y_train)\n",
    "parameters = [{'gamma':[0.01, 0.001, 0.0001], 'C':[1, 10, 100, 1000]}]\n",
    "gridSearch = GridSearchCV(clf, parameters, verbose=True)\n",
    "gridSearch.fit(X_train, y_train)"
   ]
  },
  {
   "cell_type": "code",
   "execution_count": 27,
   "id": "15146712-8ae5-4e54-b80d-58f6ee539540",
   "metadata": {},
   "outputs": [
    {
     "data": {
      "text/plain": [
       "0.4675"
      ]
     },
     "execution_count": 27,
     "metadata": {},
     "output_type": "execute_result"
    }
   ],
   "source": [
    "clf.score(X_test,y_test)"
   ]
  },
  {
   "cell_type": "code",
   "execution_count": null,
   "id": "53512fa2-718c-4952-b7ff-36f007eceb98",
   "metadata": {},
   "outputs": [],
   "source": []
  }
 ],
 "metadata": {
  "kernelspec": {
   "display_name": "Python 3 (ipykernel)",
   "language": "python",
   "name": "python3"
  },
  "language_info": {
   "codemirror_mode": {
    "name": "ipython",
    "version": 3
   },
   "file_extension": ".py",
   "mimetype": "text/x-python",
   "name": "python",
   "nbconvert_exporter": "python",
   "pygments_lexer": "ipython3",
   "version": "3.11.4"
  }
 },
 "nbformat": 4,
 "nbformat_minor": 5
}
